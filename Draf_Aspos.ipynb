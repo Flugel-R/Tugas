{
  "nbformat": 4,
  "nbformat_minor": 0,
  "metadata": {
    "colab": {
      "provenance": []
    },
    "kernelspec": {
      "name": "python3",
      "display_name": "Python 3"
    },
    "language_info": {
      "name": "python"
    }
  },
  "cells": [
    {
      "cell_type": "code",
      "execution_count": null,
      "metadata": {
        "id": "RKoNThgp5x0o"
      },
      "outputs": [],
      "source": [
        "# Kelompok"
      ]
    },
    {
      "cell_type": "code",
      "source": [
        "# Import library\n",
        "\n",
        "import math\n",
        "from datetime import datetime, timedelta"
      ],
      "metadata": {
        "id": "H0APohMHIfuq"
      },
      "execution_count": null,
      "outputs": []
    },
    {
      "cell_type": "code",
      "source": [
        "# Menentukan apakah tahun kabisat atau tidak\n",
        "\n",
        "hari, bulan, tahun = map(int, input(\"Masukkan tanggal (hari bulan tahun): \").split())\n",
        "\n",
        "jumlah_hari_per_bulan = [0, 31, 28, 31, 30, 31, 30, 31, 31, 30, 31, 30, 31]\n",
        "\n",
        "def tahun_kabisat(tahun):\n",
        "    if (tahun % 4 == 0 and tahun % 100 != 0) or (tahun % 400 == 0):\n",
        "        return True\n",
        "    else:\n",
        "        return False\n",
        "\n",
        "if tahun_kabisat(tahun):\n",
        "    jumlah_hari_per_bulan[2] = 29"
      ],
      "metadata": {
        "colab": {
          "base_uri": "https://localhost:8080/"
        },
        "id": "ITdYrksP52Ty",
        "outputId": "f8d7a662-cae6-4d35-baf0-64ecd2d2a6f8"
      },
      "execution_count": null,
      "outputs": [
        {
          "name": "stdout",
          "output_type": "stream",
          "text": [
            "Masukkan tanggal (hari bulan tahun): 28 10 2023\n"
          ]
        }
      ]
    },
    {
      "cell_type": "code",
      "source": [
        "# Menentukan float dari input tanggal\n",
        "\n",
        "nomor_urut_hari = sum(jumlah_hari_per_bulan[:bulan]) + hari\n",
        "\n",
        "jumlah_hari_tahun = 366 if tahun_kabisat(tahun) else 365\n",
        "\n",
        "floattime = nomor_urut_hari / jumlah_hari_tahun\n",
        "\n",
        "tahun = tahun + floattime\n",
        "\n",
        "print(tahun)"
      ],
      "metadata": {
        "colab": {
          "base_uri": "https://localhost:8080/"
        },
        "id": "8j_ArdlP6AgA",
        "outputId": "38c2a2f9-9325-46dd-a2ea-d1e7777f2d9f"
      },
      "execution_count": null,
      "outputs": [
        {
          "output_type": "stream",
          "name": "stdout",
          "text": [
            "2023.8246575342466\n"
          ]
        }
      ]
    },
    {
      "cell_type": "code",
      "source": [
        "# Menentukan Julian Date Time (JDE)\n",
        "\n",
        "k = (tahun - 2000) * 12.3685\n",
        "k = int(k) + 0.5\n",
        "\n",
        "T = k / 1236.85\n",
        "\n",
        "E = 1 - 0.002516*T - 0.0000074 * (T**2)\n",
        "\n",
        "JDE = 2451550.09766 + 29.530588861 * k + 0.00015437 * (T**2) - 0.000000150 * (T**3) + 0.00000000073 * (T**4)\n",
        "print(JDE)\n"
      ],
      "metadata": {
        "colab": {
          "base_uri": "https://localhost:8080/"
        },
        "id": "x3fJwcah6LHs",
        "outputId": "c5ffb0a0-0235-40c8-87bb-850822041691"
      },
      "execution_count": null,
      "outputs": [
        {
          "output_type": "stream",
          "name": "stdout",
          "text": [
            "2460246.856088314\n"
          ]
        }
      ]
    },
    {
      "cell_type": "code",
      "source": [
        "# Menentukan Mean Anomaly\n",
        "\n",
        "MS = 2.5534 + 29.10535670 * k - 0.0000014 * (T**2) - 0.00000011 * (T**3)\n",
        "\n",
        "MM = 201.5643 + 385.81693528 * k + 0.0107582 * (T**2) + 0.00001238 * (T**3) - 0.000000058 * (T**4)\n"
      ],
      "metadata": {
        "id": "OY1Do4S46jLL"
      },
      "execution_count": null,
      "outputs": []
    },
    {
      "cell_type": "code",
      "source": [
        "# Menghitung F dan Ohm\n",
        "\n",
        "Fo = 160.7108 + 390.67050284 * k - 0.0016118 * (T**2) - 0.00000227 * (T**3) + 0.000000011 * (T**4)\n",
        "\n",
        "O = 124.7746 - 1.56375588 * k + 0.0020672 * (T**2) + 0.00000215 * (T**3)\n",
        "\n",
        "F1 = Fo - 0.02665 * math.sin(math.radians(O))\n",
        "A1 = 299.77 + 0.107408 * k - 0.009173 * (T**2)\n"
      ],
      "metadata": {
        "id": "ukZHhccD6wFQ"
      },
      "execution_count": null,
      "outputs": []
    },
    {
      "cell_type": "code",
      "source": [
        "# Memeriksa kemungkinan terjadinya gerhana\n",
        "def is_eclipse_possible(Fo):\n",
        "    # Mengecek selisih dengan kelipatan terdekat 180°\n",
        "    deltaF = Fo % 180\n",
        "    if deltaF < 0:\n",
        "        deltaF += 180\n",
        "\n",
        "    if deltaF < 13.9:\n",
        "        return \"Pasti terjadi gerhana\", \"Ascending node\"\n",
        "    elif deltaF > 21.0:\n",
        "        return \"Tidak terjadi gerhana\"\n",
        "    elif 13.9 <= deltaF <= 20:\n",
        "        return \"Ada kemungkinan terjadi gerhana\"\n",
        "\n",
        "def is_eclipse_possible_alternative(Fo):\n",
        "    sin_F = abs(math.sin(math.radians(Fo)))\n",
        "\n",
        "    if sin_F > 0.36:\n",
        "        return \"Tidak terjadi gerhana\", None\n",
        "    else:\n",
        "        return \"Ada kemungkinan terjadi gerhana\", None\n"
      ],
      "metadata": {
        "id": "Bd68CnIQ61wp"
      },
      "execution_count": null,
      "outputs": []
    },
    {
      "cell_type": "code",
      "source": [
        "# Posisi gerhana\n",
        "\n",
        "def node_position(Fo):\n",
        "    deltaF = Fo % 180\n",
        "    if deltaF < 0:\n",
        "        deltaF += 180\n",
        "\n",
        "    if 0 < deltaF <=90 or 270 < deltaF <= 360 :\n",
        "        return \"gerhana terjadi di ascending node\"\n",
        "    elif 91 < deltaF <= 269:\n",
        "        return \"gerhana terjadi di descending node\"\n",
        "    else:\n",
        "        return \"Tidak dekat dengan titik naik atau turun\"\n",
        "\n",
        "result, node = is_eclipse_possible(Fo)\n",
        "\n",
        "if node:\n",
        "    print(f\"{result}, {node_position(Fo)}\")\n",
        "else:\n",
        "    print(f\"{result}\")\n"
      ],
      "metadata": {
        "colab": {
          "base_uri": "https://localhost:8080/"
        },
        "id": "P_5j2g127EDa",
        "outputId": "7c3a5b03-4c6f-4624-e7eb-f60c1ca796d6"
      },
      "execution_count": null,
      "outputs": [
        {
          "output_type": "stream",
          "name": "stdout",
          "text": [
            "Pasti terjadi gerhana, gerhana terjadi di ascending node\n"
          ]
        }
      ]
    },
    {
      "cell_type": "code",
      "source": [
        "# Definisikan rumus CorrJDE sesuai dengan rumus yang diberikan\n",
        "def calculate_CorrJDE(MM, E, MS, F1, A1, O):\n",
        "    CorrJDE = (\n",
        "        -0.4065 * math.sin(math.radians(MM))\n",
        "        + 0.1727 * E * math.sin(math.radians(MS))\n",
        "        + 0.0161 * math.sin(2 * math.radians(MM))\n",
        "        - 0.0097 * math.sin(2 * math.radians(F1))\n",
        "        + 0.0073 * E * math.sin(math.radians(MM - MS))\n",
        "        - 0.0050 * E * math.sin(math.radians(MM + MS))\n",
        "        - 0.0023 * math.sin(math.radians(MM - 2 * F1))\n",
        "        + 0.0021 * E * math.sin(2 * math.radians(MS))\n",
        "        + 0.0012 * math.sin(math.radians(MM + 2 * F1))\n",
        "        + 0.0006 * E * math.sin(2 * math.radians(MM + MS))\n",
        "        - 0.0004 * math.sin(3 * math.radians(MM))\n",
        "        - 0.0003 * E * math.sin(math.radians(MS + 2 * F1))\n",
        "        + 0.0003 * math.sin(math.radians(A1))\n",
        "        - 0.0002 * E * math.sin(math.radians(MS - 2 * F1))\n",
        "        - 0.0002 * math.sin(O)\n",
        "    )\n",
        "    return CorrJDE\n",
        "\n",
        "# Hitung CorrJDE\n",
        "CorrJDE = calculate_CorrJDE(MM, E, MS, F1, A1, O)\n",
        "\n",
        "# Hitung JDECorr\n",
        "JDECorr = JDE + CorrJDE\n",
        "print(JDECorr)\n",
        "\n"
      ],
      "metadata": {
        "id": "JAzsNCzjIwID",
        "colab": {
          "base_uri": "https://localhost:8080/"
        },
        "outputId": "9a882e97-0f2d-4c9f-ef01-7929ef92f805"
      },
      "execution_count": null,
      "outputs": [
        {
          "output_type": "stream",
          "name": "stdout",
          "text": [
            "2460246.3435612214\n"
          ]
        }
      ]
    },
    {
      "cell_type": "code",
      "source": [
        "# Menghitung tanggal dan jam dengan tanggal referensi (gunakan datetime)\n",
        "date_reference = datetime(2023, 1, 1)  # Ganti dengan tanggal referensi yang sesuai\n",
        "date_time = date_reference + timedelta(days=JDECorr)\n",
        "\n",
        "# Cetak hanya jam dengan format yang diinginkan\n",
        "formatted_time = date_time.strftime(\"%H:%M:%S\")\n",
        "print(\"Jam maksimum gerhana:\", formatted_time)"
      ],
      "metadata": {
        "id": "gO1vBJGqI4fB",
        "colab": {
          "base_uri": "https://localhost:8080/"
        },
        "outputId": "5725e898-f431-47b8-d1ee-2aa51d1ee569"
      },
      "execution_count": null,
      "outputs": [
        {
          "output_type": "stream",
          "name": "stdout",
          "text": [
            "Jam maksimum gerhana: 08:14:43\n"
          ]
        }
      ]
    },
    {
      "cell_type": "code",
      "source": [
        "# Hitung W\n",
        "W = abs(math.cos(math.radians(F1)))\n",
        "\n",
        "# Hitung P\n",
        "P = (0.2070 * E * math.sin(math.radians(MS)) +\n",
        "     0.0024 * E * math.sin(2 * math.radians(MS)) -\n",
        "     0.0392 * math.sin(math.radians(MM)) +\n",
        "     0.0116 * math.sin(2 * math.radians(MM)) -\n",
        "     0.0073 * E * math.sin(math.radians(MM + MS)) +\n",
        "     0.0067 * E * math.sin(math.radians(MM - MS)) +\n",
        "     0.0118 * math.sin(2 * math.radians(F1)))\n",
        "\n",
        "# Hitung Q\n",
        "Q = (5.2207 - 0.0048 * E * math.cos(math.radians(MS)) +\n",
        "     0.0020 * E * math.cos(2 * math.radians(MS)) -\n",
        "     0.3299 * math.cos(math.radians(MM)) -\n",
        "     0.0060 * E * math.cos(math.radians(MM + MS)) +\n",
        "     0.0041 * E * math.cos(math.radians(MM - MS)))\n",
        "\n",
        "\n",
        "# Hitung G\n",
        "G = (P * math.cos(math.radians(F1)) + Q * math.sin(math.radians(F1))) * (1 - 0.0048 * W)\n",
        "\n",
        "# Hitung u\n",
        "u = 0.0059 + 0.0046 * E * math.cos(math.radians(MS)) - 0.0182 * math.cos(math.radians(MM)) + 0.0004 * math.cos(2 * math.radians(MM)) - 0.0005 * math.cos(math.radians(MS + MM))\n"
      ],
      "metadata": {
        "id": "853HIj7kNx80"
      },
      "execution_count": null,
      "outputs": []
    },
    {
      "cell_type": "code",
      "source": [
        "# Radius Umbra dan Penumbra\n",
        "Penumbra = 1.2848 + u\n",
        "Umbra = 0.7403 - u"
      ],
      "metadata": {
        "id": "IU51ZqXRN7GX"
      },
      "execution_count": null,
      "outputs": []
    },
    {
      "cell_type": "code",
      "source": [
        "# Hitung MagP (Penumbra)\n",
        "MagP = (1.5573 + u - abs(G)) / 0.5450\n",
        "\n",
        "# Hitung MagU (Umbra)\n",
        "MagU = (1.0128 - u - abs(G)) / 0.5450\n",
        "\n",
        "p = 1.0128 - u\n",
        "t = 0.4678 - u\n",
        "h = 1.5573 + u\n",
        "n = 0.5458 + 0.0400 * math.cos(math.radians(MM))\n"
      ],
      "metadata": {
        "id": "XngMnXCHOFfE"
      },
      "execution_count": null,
      "outputs": []
    },
    {
      "cell_type": "code",
      "source": [
        "# Hitung Semidurasi Parsial\n",
        "SDPartial = (60 / n) * math.sqrt(p**2 - G**2)\n",
        "\n",
        "# Hitung Semidurasi Total\n",
        "SDTotal = (60 / n) * math.sqrt(abs(t**2 - G**2))\n",
        "\n",
        "# Hitung Semidurasi Parsial di Penumbra\n",
        "SDPartialPenumbral = (60 / n) * math.sqrt(h**2 - G**2)\n",
        "\n",
        "P1 = JDECorr - SDPartialPenumbral\n",
        "U1 = JDECorr - SDPartial\n",
        "U2 = JDECorr - SDTotal\n",
        "U3 = JDECorr + SDTotal\n",
        "U4 = JDECorr + SDPartial\n",
        "P4 = JDECorr + SDPartialPenumbral"
      ],
      "metadata": {
        "id": "__RWBVmSOHh8"
      },
      "execution_count": null,
      "outputs": []
    },
    {
      "cell_type": "code",
      "source": [
        "# Hasil akhir\n",
        "\n",
        "print(\"Tanggal patokan: \", tahun)\n",
        "\n",
        "if node:\n",
        "    print(f\"Hasil: {result}, {node_position(Fo)}\")\n",
        "else:\n",
        "    print(f\"Hasil: {result}\")\n",
        "\n",
        "print(\"Maksimal gerhana: \", formatted_time)\n",
        "\n",
        "print(\"Gamma: \", G)\n",
        "\n",
        "print(\"Radius penumbra: \", Penumbra)\n",
        "print(\"Radius umbra: \", Umbra)\n",
        "\n",
        "print(\"Magnitudo penumbra: \", MagP)\n",
        "print(\"Magnitudo umbra: \", MagU)\n",
        "\n",
        "print(\"Semidurasi fase\")\n",
        "print(\"Parsial: \", SDPartial, \" menit\")\n",
        "print(\"Total: \", SDTotal, \" menit\")\n",
        "print(\"Parsial di penumbra: \", SDPartialPenumbral, \" menit\")\n",
        "\n",
        "# delta?\n",
        "\n",
        "# Eclipse duration\n",
        "# Penumbral\n",
        "# Umbral\n",
        "# Total\n",
        "\n",
        "print(\"Eclipse contacts\")\n",
        "print(\"P1: \", P1)\n",
        "print(\"U1: \", U1)\n",
        "print(\"U2: \", U2)\n",
        "print(\"U3: \", U3)\n",
        "print(\"U4: \", U4)\n",
        "print(\"P4: \", P4)"
      ],
      "metadata": {
        "colab": {
          "base_uri": "https://localhost:8080/"
        },
        "id": "RTU0xr8dOMta",
        "outputId": "8c11cde7-0f86-4653-942a-45a38bda77d9"
      },
      "execution_count": null,
      "outputs": [
        {
          "output_type": "stream",
          "name": "stdout",
          "text": [
            "Tanggal patokan:  2023.8246575342466\n",
            "Hasil: Pasti terjadi gerhana, gerhana terjadi di ascending node\n",
            "Maksimal gerhana:  2460246.3435612214\n",
            "Gamma:  0.9483200515723309\n",
            "Radius penumbra:  1.2840309483840615\n",
            "Radius umbra:  0.7410690516159383\n",
            "Magnitudo penumbra:  1.1159832969022578\n",
            "Magnitudo umbra:  0.11972293585983018\n",
            "Semidurasi fase\n",
            "Parsial:  38.13514016863712  menit\n",
            "Total:  87.87737261357003  menit\n",
            "Parsial di penumbra:  131.5585978902204  menit\n",
            "Eclipse contacts\n",
            "P1:  2460114.784963331\n",
            "U1:  2460208.208421053\n",
            "U2:  2460158.4661886077\n",
            "U3:  2460334.220933835\n",
            "U4:  2460284.47870139\n",
            "P4:  2460377.9021591116\n"
          ]
        }
      ]
    }
  ]
}